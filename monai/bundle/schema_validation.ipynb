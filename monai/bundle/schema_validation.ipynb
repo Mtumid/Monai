{
    "cells": [
        {
            "cell_type": "markdown",
            "id": "99837a51-832c-4289-9c3c-ad88326d01cb",
            "metadata": {},
            "source": [
                "# Verify Test\n",
                "\n",
                "This generates a schema based off the one from the segmentation template in the model zoo. It uses the URL for the schema in this PR, adds `required_packages_version`, and makes `optional_packages_version` empty."
            ]
        },
        {
            "cell_type": "code",
            "execution_count": 13,
            "id": "b7842f14-a0ac-44a0-a889-66d12808365f",
            "metadata": {
                "tags": []
            },
            "outputs": [
                {
                    "name": "stdout",
                    "output_type": "stream",
                    "text": [
                        "Writing test_metadata.json\n"
                    ]
                }
            ],
            "source": [
                "%%writefile test_metadata.json\n",
                "\n",
                "{\n",
                "    \"schema\": \"https://raw.githubusercontent.com/Project-MONAI/MONAI/0c9bf116a0c21c3ac36f8c9c3415e3f7cadaf5ef/monai/bundle/meta_schema.json\",\n",
                "    \"version\": \"0.0.2\",\n",
                "    \"changelog\": {\n",
                "        \"0.0.2\": \"Minor train.yaml clarifications\",\n",
                "        \"0.0.1\": \"Initial version\"\n",
                "    },\n",
                "    \"monai_version\": \"1.2.0\",\n",
                "    \"pytorch_version\": \"2.0.1\",\n",
                "    \"numpy_version\": \"1.24.4\",\n",
                "    \"required_packages_version\": {\n",
                "        \"nibabel\": \"5.1.0\",\n",
                "        \"pytorch-ignite\": \"0.4.12\"\n",
                "    },\n",
                "    \"optional_packages_version\": {},\n",
                "    \"name\": \"Segmentation Template\",\n",
                "    \"task\": \"Segmentation of randomly generated spheres in 3D images\",\n",
                "    \"description\": \"This is a template bundle for segmenting in 3D, take this as a basis for your own bundles.\",\n",
                "    \"authors\": \"Eric Kerfoot\",\n",
                "    \"copyright\": \"Copyright (c) 2023 MONAI Consortium\",\n",
                "    \"network_data_format\": {\n",
                "        \"inputs\": {\n",
                "            \"image\": {\n",
                "                \"type\": \"image\",\n",
                "                \"format\": \"magnitude\",\n",
                "                \"modality\": \"none\",\n",
                "                \"num_channels\": 1,\n",
                "                \"spatial_shape\": [\n",
                "                    128,\n",
                "                    128,\n",
                "                    128\n",
                "                ],\n",
                "                \"dtype\": \"float32\",\n",
                "                \"value_range\": [],\n",
                "                \"is_patch_data\": false,\n",
                "                \"channel_def\": {\n",
                "                    \"0\": \"image\"\n",
                "                }\n",
                "            }\n",
                "        },\n",
                "        \"outputs\": {\n",
                "            \"pred\": {\n",
                "                \"type\": \"image\",\n",
                "                \"format\": \"segmentation\",\n",
                "                \"num_channels\": 4,\n",
                "                \"spatial_shape\": [\n",
                "                    128,\n",
                "                    128,\n",
                "                    128\n",
                "                ],\n",
                "                \"dtype\": \"float32\",\n",
                "                \"value_range\": [\n",
                "                    0,\n",
                "                    3\n",
                "                ],\n",
                "                \"is_patch_data\": false,\n",
                "                \"channel_def\": {\n",
                "                    \"0\": \"background\",\n",
                "                    \"1\": \"category 1\",\n",
                "                    \"2\": \"category 2\",\n",
                "                    \"3\": \"category 3\"\n",
                "                }\n",
                "            }\n",
                "        }\n",
                "    }\n",
                "}"
            ]
        },
        {
            "cell_type": "code",
            "execution_count": 14,
            "id": "fc99da20-8df0-4e46-81c4-f2fe8900e72f",
            "metadata": {
                "tags": []
            },
            "outputs": [
                {
                    "name": "stdout",
                    "output_type": "stream",
                    "text": [
                        "2024-02-03 00:33:35,098 - INFO - --- input summary of monai.bundle.scripts.verify_metadata ---\n",
                        "2024-02-03 00:33:35,099 - INFO - > meta_file: 'test_metadata.json'\n",
                        "2024-02-03 00:33:35,099 - INFO - > filepath: 'test.json'\n",
                        "2024-02-03 00:33:35,099 - INFO - ---\n",
                        "\n",
                        "\n",
                        "2024-02-03 00:33:35,099 - INFO - Expected md5 is None, skip md5 check for file test.json.\n",
                        "2024-02-03 00:33:35,099 - INFO - File exists: test.json, skipped downloading.\n",
                        "2024-02-03 00:33:35,118 - INFO - metadata is verified with no error.\n"
                    ]
                }
            ],
            "source": [
                "!python -m monai.bundle verify_metadata --meta_file test_metadata.json --filepath test.json"
            ]
        }
    ],
    "metadata": {
        "kernelspec": {
            "display_name": "Python [conda env:monai]",
            "language": "python",
            "name": "conda-env-monai-py"
        },
        "language_info": {
            "codemirror_mode": {
                "name": "ipython",
                "version": 3
            },
            "file_extension": ".py",
            "mimetype": "text/x-python",
            "name": "python",
            "nbconvert_exporter": "python",
            "pygments_lexer": "ipython3",
            "version": "3.10.13"
        }
    },
    "nbformat": 4,
    "nbformat_minor": 5
}
